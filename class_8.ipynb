{
 "cells": [
  {
   "cell_type": "markdown",
   "id": "799beae6",
   "metadata": {},
   "source": [
    "# Python Library: Numpy"
   ]
  },
  {
   "cell_type": "code",
   "execution_count": 1,
   "id": "47c8f098",
   "metadata": {},
   "outputs": [],
   "source": [
    "import numpy as np"
   ]
  },
  {
   "cell_type": "code",
   "execution_count": 2,
   "id": "a27e6b25",
   "metadata": {},
   "outputs": [],
   "source": [
    "#creating a list\n",
    "l1 = [2,4,5,6,7]"
   ]
  },
  {
   "cell_type": "code",
   "execution_count": 4,
   "id": "e45f4129",
   "metadata": {},
   "outputs": [],
   "source": [
    "#creating an array\n",
    "n1=np.array(l1)"
   ]
  },
  {
   "cell_type": "code",
   "execution_count": 5,
   "id": "80d6b6f3",
   "metadata": {},
   "outputs": [
    {
     "data": {
      "text/plain": [
       "array([2, 4, 5, 6, 7])"
      ]
     },
     "execution_count": 5,
     "metadata": {},
     "output_type": "execute_result"
    }
   ],
   "source": [
    "n1"
   ]
  },
  {
   "cell_type": "code",
   "execution_count": 12,
   "id": "38bd1be0",
   "metadata": {},
   "outputs": [
    {
     "data": {
      "text/plain": [
       "numpy.ndarray"
      ]
     },
     "execution_count": 12,
     "metadata": {},
     "output_type": "execute_result"
    }
   ],
   "source": [
    "type(n1)"
   ]
  },
  {
   "cell_type": "code",
   "execution_count": 14,
   "id": "9b32b552",
   "metadata": {},
   "outputs": [],
   "source": [
    "n2=np.array([[2,3,4,6,7],[8,1,4,2,4]])"
   ]
  },
  {
   "cell_type": "code",
   "execution_count": 8,
   "id": "9c280324",
   "metadata": {},
   "outputs": [
    {
     "data": {
      "text/plain": [
       "array([list([2, 3, 4, 6, 7]), list([0, 1, 4, 2, 4, 6])], dtype=object)"
      ]
     },
     "execution_count": 8,
     "metadata": {},
     "output_type": "execute_result"
    }
   ],
   "source": [
    "n2"
   ]
  },
  {
   "cell_type": "code",
   "execution_count": 15,
   "id": "ea7818ab",
   "metadata": {},
   "outputs": [
    {
     "data": {
      "text/plain": [
       "numpy.ndarray"
      ]
     },
     "execution_count": 15,
     "metadata": {},
     "output_type": "execute_result"
    }
   ],
   "source": [
    "type(n2)"
   ]
  },
  {
   "cell_type": "code",
   "execution_count": 16,
   "id": "fc58765e",
   "metadata": {},
   "outputs": [],
   "source": [
    "n3=np.zeros((2,3))"
   ]
  },
  {
   "cell_type": "code",
   "execution_count": 17,
   "id": "54584a95",
   "metadata": {},
   "outputs": [
    {
     "data": {
      "text/plain": [
       "array([[0., 0., 0.],\n",
       "       [0., 0., 0.]])"
      ]
     },
     "execution_count": 17,
     "metadata": {},
     "output_type": "execute_result"
    }
   ],
   "source": [
    "n3"
   ]
  },
  {
   "cell_type": "code",
   "execution_count": 18,
   "id": "114cbfb8",
   "metadata": {},
   "outputs": [
    {
     "data": {
      "text/plain": [
       "numpy.ndarray"
      ]
     },
     "execution_count": 18,
     "metadata": {},
     "output_type": "execute_result"
    }
   ],
   "source": [
    "type(n3)"
   ]
  },
  {
   "cell_type": "code",
   "execution_count": 20,
   "id": "f7a32ebc",
   "metadata": {},
   "outputs": [],
   "source": [
    "n4=np.zeros((10,3))"
   ]
  },
  {
   "cell_type": "code",
   "execution_count": 21,
   "id": "6a03f972",
   "metadata": {},
   "outputs": [
    {
     "data": {
      "text/plain": [
       "array([[0., 0., 0.],\n",
       "       [0., 0., 0.],\n",
       "       [0., 0., 0.],\n",
       "       [0., 0., 0.],\n",
       "       [0., 0., 0.],\n",
       "       [0., 0., 0.],\n",
       "       [0., 0., 0.],\n",
       "       [0., 0., 0.],\n",
       "       [0., 0., 0.],\n",
       "       [0., 0., 0.]])"
      ]
     },
     "execution_count": 21,
     "metadata": {},
     "output_type": "execute_result"
    }
   ],
   "source": [
    "n4"
   ]
  },
  {
   "cell_type": "code",
   "execution_count": 23,
   "id": "36a16546",
   "metadata": {},
   "outputs": [],
   "source": [
    "n5=np.full((5,4),46)"
   ]
  },
  {
   "cell_type": "code",
   "execution_count": 24,
   "id": "4af1e9c7",
   "metadata": {},
   "outputs": [
    {
     "data": {
      "text/plain": [
       "array([[46, 46, 46, 46],\n",
       "       [46, 46, 46, 46],\n",
       "       [46, 46, 46, 46],\n",
       "       [46, 46, 46, 46],\n",
       "       [46, 46, 46, 46]])"
      ]
     },
     "execution_count": 24,
     "metadata": {},
     "output_type": "execute_result"
    }
   ],
   "source": [
    "n5"
   ]
  },
  {
   "cell_type": "code",
   "execution_count": 28,
   "id": "24f3230c",
   "metadata": {},
   "outputs": [],
   "source": [
    "n6=np.arange(10,40)"
   ]
  },
  {
   "cell_type": "code",
   "execution_count": 29,
   "id": "79984b7c",
   "metadata": {},
   "outputs": [
    {
     "data": {
      "text/plain": [
       "array([10, 11, 12, 13, 14, 15, 16, 17, 18, 19, 20, 21, 22, 23, 24, 25, 26,\n",
       "       27, 28, 29, 30, 31, 32, 33, 34, 35, 36, 37, 38, 39])"
      ]
     },
     "execution_count": 29,
     "metadata": {},
     "output_type": "execute_result"
    }
   ],
   "source": [
    "n6"
   ]
  },
  {
   "cell_type": "code",
   "execution_count": 31,
   "id": "98e2950e",
   "metadata": {},
   "outputs": [],
   "source": [
    "n7=np.arange(10,50,5)"
   ]
  },
  {
   "cell_type": "code",
   "execution_count": 32,
   "id": "4c6c9a75",
   "metadata": {},
   "outputs": [
    {
     "data": {
      "text/plain": [
       "array([10, 15, 20, 25, 30, 35, 40, 45])"
      ]
     },
     "execution_count": 32,
     "metadata": {},
     "output_type": "execute_result"
    }
   ],
   "source": [
    "n7"
   ]
  },
  {
   "cell_type": "code",
   "execution_count": 38,
   "id": "c93dac02",
   "metadata": {},
   "outputs": [],
   "source": [
    "n8=np.random.randint(100,200,10)"
   ]
  },
  {
   "cell_type": "code",
   "execution_count": 39,
   "id": "20cecc77",
   "metadata": {},
   "outputs": [
    {
     "data": {
      "text/plain": [
       "array([117, 141, 108, 111, 117, 178, 162, 179, 176, 183])"
      ]
     },
     "execution_count": 39,
     "metadata": {},
     "output_type": "execute_result"
    }
   ],
   "source": [
    "n8"
   ]
  },
  {
   "cell_type": "code",
   "execution_count": null,
   "id": "2e3d16f8",
   "metadata": {},
   "outputs": [],
   "source": [
    "#Changing the shape of Numpy array"
   ]
  },
  {
   "cell_type": "code",
   "execution_count": 41,
   "id": "e3374ff8",
   "metadata": {},
   "outputs": [],
   "source": [
    "n1=np.array([[2,5,6,8,9],[7,9,5,4,2]])"
   ]
  },
  {
   "cell_type": "code",
   "execution_count": 42,
   "id": "bfcb02f9",
   "metadata": {},
   "outputs": [
    {
     "data": {
      "text/plain": [
       "(2, 5)"
      ]
     },
     "execution_count": 42,
     "metadata": {},
     "output_type": "execute_result"
    }
   ],
   "source": [
    "n1.shape"
   ]
  },
  {
   "cell_type": "code",
   "execution_count": 43,
   "id": "c2522cae",
   "metadata": {},
   "outputs": [],
   "source": [
    "n1.shape =(5,2)"
   ]
  },
  {
   "cell_type": "code",
   "execution_count": 44,
   "id": "c22f5ff2",
   "metadata": {},
   "outputs": [
    {
     "data": {
      "text/plain": [
       "(5, 2)"
      ]
     },
     "execution_count": 44,
     "metadata": {},
     "output_type": "execute_result"
    }
   ],
   "source": [
    "n1.shape"
   ]
  },
  {
   "cell_type": "code",
   "execution_count": 56,
   "id": "c9a258e3",
   "metadata": {},
   "outputs": [],
   "source": [
    "##Joining Numpy Arrays\n",
    "n1=np.array([45,78,98,34,45])\n",
    "n2=np.array([77,99,44,34,45])"
   ]
  },
  {
   "cell_type": "code",
   "execution_count": 57,
   "id": "f9762d17",
   "metadata": {},
   "outputs": [
    {
     "data": {
      "text/plain": [
       "array([[45, 78, 98, 34, 45],\n",
       "       [77, 99, 44, 34, 45]])"
      ]
     },
     "execution_count": 57,
     "metadata": {},
     "output_type": "execute_result"
    }
   ],
   "source": [
    "np.vstack((n1,n2))"
   ]
  },
  {
   "cell_type": "code",
   "execution_count": 58,
   "id": "b5891cb6",
   "metadata": {},
   "outputs": [
    {
     "data": {
      "text/plain": [
       "array([45, 78, 98, 34, 45, 77, 99, 44, 34, 45])"
      ]
     },
     "execution_count": 58,
     "metadata": {},
     "output_type": "execute_result"
    }
   ],
   "source": [
    "np.hstack((n1,n2))"
   ]
  },
  {
   "cell_type": "code",
   "execution_count": 59,
   "id": "c1715983",
   "metadata": {},
   "outputs": [
    {
     "data": {
      "text/plain": [
       "array([[45, 77],\n",
       "       [78, 99],\n",
       "       [98, 44],\n",
       "       [34, 34],\n",
       "       [45, 45]])"
      ]
     },
     "execution_count": 59,
     "metadata": {},
     "output_type": "execute_result"
    }
   ],
   "source": [
    "np.column_stack((n1,n2))"
   ]
  },
  {
   "cell_type": "code",
   "execution_count": 61,
   "id": "8300f81c",
   "metadata": {},
   "outputs": [
    {
     "data": {
      "text/plain": [
       "array([34, 45])"
      ]
     },
     "execution_count": 61,
     "metadata": {},
     "output_type": "execute_result"
    }
   ],
   "source": [
    "##Numpy intersection and difference\n",
    "np.intersect1d(n1,n2)"
   ]
  },
  {
   "cell_type": "code",
   "execution_count": 63,
   "id": "aa0cd2d1",
   "metadata": {},
   "outputs": [
    {
     "data": {
      "text/plain": [
       "array([78, 98])"
      ]
     },
     "execution_count": 63,
     "metadata": {},
     "output_type": "execute_result"
    }
   ],
   "source": [
    "np.setdiff1d(n1,n2)"
   ]
  },
  {
   "cell_type": "code",
   "execution_count": 64,
   "id": "b1aba488",
   "metadata": {},
   "outputs": [
    {
     "data": {
      "text/plain": [
       "array([44, 77, 99])"
      ]
     },
     "execution_count": 64,
     "metadata": {},
     "output_type": "execute_result"
    }
   ],
   "source": [
    "np.setdiff1d(n2,n1)"
   ]
  },
  {
   "cell_type": "code",
   "execution_count": 66,
   "id": "070ec9fe",
   "metadata": {},
   "outputs": [],
   "source": [
    "#Numpy Array math\n",
    "n1=np.array([35,45])\n",
    "n2=np.array([20,40])"
   ]
  },
  {
   "cell_type": "code",
   "execution_count": 68,
   "id": "2192d480",
   "metadata": {},
   "outputs": [
    {
     "data": {
      "text/plain": [
       "140"
      ]
     },
     "execution_count": 68,
     "metadata": {},
     "output_type": "execute_result"
    }
   ],
   "source": [
    "np.sum([n1,n2])"
   ]
  },
  {
   "cell_type": "code",
   "execution_count": 70,
   "id": "20ac2400",
   "metadata": {},
   "outputs": [
    {
     "data": {
      "text/plain": [
       "array([55, 85])"
      ]
     },
     "execution_count": 70,
     "metadata": {},
     "output_type": "execute_result"
    }
   ],
   "source": [
    "np.sum([n1,n2],axis=0)"
   ]
  },
  {
   "cell_type": "code",
   "execution_count": 71,
   "id": "e20c2e27",
   "metadata": {},
   "outputs": [
    {
     "data": {
      "text/plain": [
       "array([55, 85])"
      ]
     },
     "execution_count": 71,
     "metadata": {},
     "output_type": "execute_result"
    }
   ],
   "source": [
    "np.sum([n1,n2], axis=0)"
   ]
  },
  {
   "cell_type": "code",
   "execution_count": null,
   "id": "afaac890",
   "metadata": {},
   "outputs": [],
   "source": [
    "#Basic arthematic"
   ]
  },
  {
   "cell_type": "code",
   "execution_count": 72,
   "id": "9f123f04",
   "metadata": {},
   "outputs": [
    {
     "data": {
      "text/plain": [
       "array([12, 22, 32])"
      ]
     },
     "execution_count": 72,
     "metadata": {},
     "output_type": "execute_result"
    }
   ],
   "source": [
    "n1=np.array([10,20,30])\n",
    "n1=n1+2\n",
    "n1"
   ]
  },
  {
   "cell_type": "code",
   "execution_count": 74,
   "id": "0e555f2d",
   "metadata": {},
   "outputs": [
    {
     "data": {
      "text/plain": [
       "array([20, 40, 60])"
      ]
     },
     "execution_count": 74,
     "metadata": {},
     "output_type": "execute_result"
    }
   ],
   "source": [
    "n1=np.array([10,20,30])\n",
    "n1=n1*2\n",
    "#n1=n1/2\n",
    "#n1=n1-2\n",
    "n1"
   ]
  },
  {
   "cell_type": "code",
   "execution_count": 75,
   "id": "226c1700",
   "metadata": {},
   "outputs": [],
   "source": [
    "#Numpy math function\n",
    "#mean, median, st div"
   ]
  },
  {
   "cell_type": "code",
   "execution_count": 76,
   "id": "d83998c4",
   "metadata": {},
   "outputs": [],
   "source": [
    "n1=np.random.randint(1,40,10)"
   ]
  },
  {
   "cell_type": "code",
   "execution_count": 77,
   "id": "8051cbc0",
   "metadata": {},
   "outputs": [
    {
     "data": {
      "text/plain": [
       "array([13, 21, 24, 38, 35, 26,  9, 27, 18, 13])"
      ]
     },
     "execution_count": 77,
     "metadata": {},
     "output_type": "execute_result"
    }
   ],
   "source": [
    "n1"
   ]
  },
  {
   "cell_type": "code",
   "execution_count": 78,
   "id": "819e919d",
   "metadata": {},
   "outputs": [
    {
     "data": {
      "text/plain": [
       "22.4"
      ]
     },
     "execution_count": 78,
     "metadata": {},
     "output_type": "execute_result"
    }
   ],
   "source": [
    "np.mean(n1)"
   ]
  },
  {
   "cell_type": "code",
   "execution_count": 79,
   "id": "61fb2730",
   "metadata": {},
   "outputs": [
    {
     "data": {
      "text/plain": [
       "22.5"
      ]
     },
     "execution_count": 79,
     "metadata": {},
     "output_type": "execute_result"
    }
   ],
   "source": [
    "np.median(n1)"
   ]
  },
  {
   "cell_type": "code",
   "execution_count": 80,
   "id": "d05f69ee",
   "metadata": {},
   "outputs": [
    {
     "data": {
      "text/plain": [
       "9.035485598461214"
      ]
     },
     "execution_count": 80,
     "metadata": {},
     "output_type": "execute_result"
    }
   ],
   "source": [
    "np.std(n1)"
   ]
  },
  {
   "cell_type": "code",
   "execution_count": 85,
   "id": "64535d22",
   "metadata": {},
   "outputs": [],
   "source": [
    "##Saving Numpy array\n",
    "n1=np.array([99,88,77,66,55])\n",
    "np.save('my_numpy',n1)"
   ]
  },
  {
   "cell_type": "code",
   "execution_count": 87,
   "id": "d3ec1461",
   "metadata": {},
   "outputs": [
    {
     "data": {
      "text/plain": [
       "array([99, 88, 77, 66, 55])"
      ]
     },
     "execution_count": 87,
     "metadata": {},
     "output_type": "execute_result"
    }
   ],
   "source": [
    "n2=np.load('my_numpy.npy')\n",
    "n2"
   ]
  },
  {
   "cell_type": "code",
   "execution_count": null,
   "id": "fd6333b8",
   "metadata": {},
   "outputs": [],
   "source": []
  },
  {
   "cell_type": "code",
   "execution_count": null,
   "id": "6ff09f02",
   "metadata": {},
   "outputs": [],
   "source": []
  },
  {
   "cell_type": "code",
   "execution_count": null,
   "id": "84816428",
   "metadata": {},
   "outputs": [],
   "source": []
  }
 ],
 "metadata": {
  "kernelspec": {
   "display_name": "Python 3 (ipykernel)",
   "language": "python",
   "name": "python3"
  },
  "language_info": {
   "codemirror_mode": {
    "name": "ipython",
    "version": 3
   },
   "file_extension": ".py",
   "mimetype": "text/x-python",
   "name": "python",
   "nbconvert_exporter": "python",
   "pygments_lexer": "ipython3",
   "version": "3.9.7"
  }
 },
 "nbformat": 4,
 "nbformat_minor": 5
}
