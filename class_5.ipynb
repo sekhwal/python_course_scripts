{
 "cells": [
  {
   "cell_type": "markdown",
   "id": "33293d34",
   "metadata": {},
   "source": [
    "# For and While loop"
   ]
  },
  {
   "cell_type": "code",
   "execution_count": null,
   "id": "4849e246",
   "metadata": {},
   "outputs": [],
   "source": [
    "lst1 = [\"pa\", \"la\", \"il\",\"nd\"]\n",
    "lst2 = [\"book\",\"pen\",\"notebook\"]"
   ]
  },
  {
   "cell_type": "code",
   "execution_count": 5,
   "id": "836c411e",
   "metadata": {},
   "outputs": [
    {
     "name": "stdout",
     "output_type": "stream",
     "text": [
      "pa\n",
      "la\n",
      "il\n",
      "nd\n"
     ]
    }
   ],
   "source": [
    "for i in lst1:\n",
    "    print(i)"
   ]
  },
  {
   "cell_type": "code",
   "execution_count": 6,
   "id": "4c65bf3c",
   "metadata": {},
   "outputs": [
    {
     "name": "stdout",
     "output_type": "stream",
     "text": [
      "pa book\n",
      "pa pen\n",
      "pa notebook\n",
      "la book\n",
      "la pen\n",
      "la notebook\n",
      "il book\n",
      "il pen\n",
      "il notebook\n",
      "nd book\n",
      "nd pen\n",
      "nd notebook\n"
     ]
    }
   ],
   "source": [
    "for i in lst1:\n",
    "    for j in lst2:\n",
    "        print(i,j)"
   ]
  },
  {
   "cell_type": "code",
   "execution_count": 9,
   "id": "60783515",
   "metadata": {},
   "outputs": [
    {
     "name": "stdout",
     "output_type": "stream",
     "text": [
      "* \r\n",
      "* * \r\n",
      "* * * \r\n",
      "* * * * \r\n",
      "* * * * * \r\n"
     ]
    }
   ],
   "source": [
    "#example 1\n",
    "for i in range(0,5):\n",
    "    for j in range(0,i+1):\n",
    "        print(\"*\",end=\" \")\n",
    "    print(\"\\r\")"
   ]
  },
  {
   "cell_type": "code",
   "execution_count": 12,
   "id": "c58a41fa",
   "metadata": {},
   "outputs": [
    {
     "name": "stdout",
     "output_type": "stream",
     "text": [
      "1 \r\n",
      "2 3 \r\n",
      "4 5 6 \r\n",
      "7 8 9 10 \r\n",
      "11 12 13 14 15 \r\n"
     ]
    }
   ],
   "source": [
    "#example 2\n",
    "a=1\n",
    "for i in range(0,5):\n",
    "    for j in range(0,i+1):\n",
    "        print(a,end=\" \")\n",
    "        a=a+1\n",
    "    print(\"\\r\")"
   ]
  },
  {
   "cell_type": "code",
   "execution_count": 15,
   "id": "2ceb9717",
   "metadata": {},
   "outputs": [
    {
     "name": "stdout",
     "output_type": "stream",
     "text": [
      "99\n",
      "98\n",
      "97\n",
      "104\n",
      "105\n"
     ]
    }
   ],
   "source": [
    "#example 3\n",
    "a=100\n",
    "\n",
    "n=1\n",
    "\n",
    "while(n<=5):\n",
    "    if(n<4):\n",
    "        print(a-n)\n",
    "    else:\n",
    "        print(a+n)\n",
    "    n=n+1"
   ]
  },
  {
   "cell_type": "code",
   "execution_count": 16,
   "id": "f3b0a836",
   "metadata": {},
   "outputs": [
    {
     "name": "stdout",
     "output_type": "stream",
     "text": [
      "1\n",
      "2\n",
      "110\n",
      "120\n",
      "130\n"
     ]
    }
   ],
   "source": [
    "#example 4\n",
    "x=100\n",
    "y=100\n",
    "n=1\n",
    "while(n<=5):\n",
    "    if(n<3):\n",
    "        x=x-10\n",
    "        print(n)\n",
    "    else:\n",
    "        y=y+10\n",
    "        print(y)\n",
    "    n=n+1"
   ]
  },
  {
   "cell_type": "code",
   "execution_count": 18,
   "id": "f915d50f",
   "metadata": {},
   "outputs": [
    {
     "name": "stdout",
     "output_type": "stream",
     "text": [
      "3\n",
      "3\n",
      "6\n",
      "3\n",
      "3\n"
     ]
    }
   ],
   "source": [
    "#example 5\n",
    "a=1\n",
    "b=2\n",
    "c=2\n",
    "d=1\n",
    "i=1\n",
    "\n",
    "while(i<=5):\n",
    "    if(i==3):\n",
    "        print(a+b+c+d)\n",
    "    else:\n",
    "        print(a+b)\n",
    "    i=i+1\n"
   ]
  },
  {
   "cell_type": "code",
   "execution_count": 19,
   "id": "25271afb",
   "metadata": {},
   "outputs": [
    {
     "name": "stdout",
     "output_type": "stream",
     "text": [
      "30\n",
      "30\n"
     ]
    }
   ],
   "source": [
    "#example 5\n",
    "x=10\n",
    "y=20\n",
    "i=1\n",
    "while(i<=10):\n",
    "    i=i+3\n",
    "    if(i<8):\n",
    "        print(x+y)"
   ]
  }
 ],
 "metadata": {
  "kernelspec": {
   "display_name": "Python 3 (ipykernel)",
   "language": "python",
   "name": "python3"
  },
  "language_info": {
   "codemirror_mode": {
    "name": "ipython",
    "version": 3
   },
   "file_extension": ".py",
   "mimetype": "text/x-python",
   "name": "python",
   "nbconvert_exporter": "python",
   "pygments_lexer": "ipython3",
   "version": "3.9.7"
  }
 },
 "nbformat": 4,
 "nbformat_minor": 5
}
