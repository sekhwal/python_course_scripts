{
 "cells": [
  {
   "cell_type": "markdown",
   "id": "10318167",
   "metadata": {},
   "source": [
    "# Python Function"
   ]
  },
  {
   "cell_type": "code",
   "execution_count": 2,
   "id": "7bc63996",
   "metadata": {},
   "outputs": [],
   "source": [
    "def bio():\n",
    "    print(\"hello bio\")"
   ]
  },
  {
   "cell_type": "code",
   "execution_count": 4,
   "id": "30c8d318",
   "metadata": {},
   "outputs": [
    {
     "name": "stdout",
     "output_type": "stream",
     "text": [
      "hello bio\n"
     ]
    }
   ],
   "source": [
    "bio()"
   ]
  },
  {
   "cell_type": "code",
   "execution_count": 5,
   "id": "f5d00f93",
   "metadata": {},
   "outputs": [],
   "source": [
    "def add(x):\n",
    "    return(x+10)"
   ]
  },
  {
   "cell_type": "code",
   "execution_count": 6,
   "id": "06636da3",
   "metadata": {},
   "outputs": [
    {
     "data": {
      "text/plain": [
       "15"
      ]
     },
     "execution_count": 6,
     "metadata": {},
     "output_type": "execute_result"
    }
   ],
   "source": [
    "add(5)"
   ]
  },
  {
   "cell_type": "code",
   "execution_count": 7,
   "id": "04c6accd",
   "metadata": {},
   "outputs": [],
   "source": [
    "def odd_even(x):\n",
    "    if x%2==0:\n",
    "        print(x, \"is even\")\n",
    "    else:\n",
    "        print(x, \"is odd\")"
   ]
  },
  {
   "cell_type": "code",
   "execution_count": 9,
   "id": "f0f30caa",
   "metadata": {},
   "outputs": [
    {
     "name": "stdout",
     "output_type": "stream",
     "text": [
      "12 is even\n"
     ]
    }
   ],
   "source": [
    "odd_even(12)"
   ]
  },
  {
   "cell_type": "code",
   "execution_count": 10,
   "id": "a8e0425f",
   "metadata": {},
   "outputs": [
    {
     "name": "stdout",
     "output_type": "stream",
     "text": [
      "5 is odd\n"
     ]
    }
   ],
   "source": [
    "odd_even(5)"
   ]
  },
  {
   "cell_type": "code",
   "execution_count": 11,
   "id": "c7662973",
   "metadata": {},
   "outputs": [],
   "source": [
    "add=lambda x: x+x+x"
   ]
  },
  {
   "cell_type": "code",
   "execution_count": 12,
   "id": "b63927de",
   "metadata": {},
   "outputs": [
    {
     "data": {
      "text/plain": [
       "15"
      ]
     },
     "execution_count": 12,
     "metadata": {},
     "output_type": "execute_result"
    }
   ],
   "source": [
    "add(5)"
   ]
  },
  {
   "cell_type": "code",
   "execution_count": 16,
   "id": "efaa5880",
   "metadata": {},
   "outputs": [],
   "source": [
    "#lambda with filter\n",
    "l1 = [33,22,12,23,34,56,67,78,11,12]\n",
    "final_list=list(filter(lambda x: (x%2!=0),l1))"
   ]
  },
  {
   "cell_type": "code",
   "execution_count": 17,
   "id": "61217473",
   "metadata": {},
   "outputs": [
    {
     "data": {
      "text/plain": [
       "[33, 23, 67, 11]"
      ]
     },
     "execution_count": 17,
     "metadata": {},
     "output_type": "execute_result"
    }
   ],
   "source": [
    "final_list"
   ]
  },
  {
   "cell_type": "code",
   "execution_count": null,
   "id": "e260664a",
   "metadata": {},
   "outputs": [],
   "source": [
    "#lambda with map"
   ]
  },
  {
   "cell_type": "code",
   "execution_count": 18,
   "id": "58366252",
   "metadata": {},
   "outputs": [],
   "source": [
    "l2 = [1,2,3,4,5,6,7,8,9]"
   ]
  },
  {
   "cell_type": "code",
   "execution_count": 19,
   "id": "316d9c0a",
   "metadata": {},
   "outputs": [],
   "source": [
    "list_new=list(map(lambda x: x*2,l2))"
   ]
  },
  {
   "cell_type": "code",
   "execution_count": 20,
   "id": "50f5f625",
   "metadata": {},
   "outputs": [
    {
     "data": {
      "text/plain": [
       "[2, 4, 6, 8, 10, 12, 14, 16, 18]"
      ]
     },
     "execution_count": 20,
     "metadata": {},
     "output_type": "execute_result"
    }
   ],
   "source": [
    "list_new"
   ]
  },
  {
   "cell_type": "code",
   "execution_count": 21,
   "id": "86f9a9c3",
   "metadata": {},
   "outputs": [],
   "source": [
    "from functools import reduce"
   ]
  },
  {
   "cell_type": "code",
   "execution_count": 22,
   "id": "b2d5aaa0",
   "metadata": {},
   "outputs": [],
   "source": [
    "sum=reduce(lambda x,y: x+y, l2)"
   ]
  },
  {
   "cell_type": "code",
   "execution_count": 23,
   "id": "76e43b2d",
   "metadata": {},
   "outputs": [
    {
     "data": {
      "text/plain": [
       "45"
      ]
     },
     "execution_count": 23,
     "metadata": {},
     "output_type": "execute_result"
    }
   ],
   "source": [
    "sum"
   ]
  },
  {
   "cell_type": "code",
   "execution_count": null,
   "id": "ecdd1066",
   "metadata": {},
   "outputs": [],
   "source": []
  }
 ],
 "metadata": {
  "kernelspec": {
   "display_name": "Python 3 (ipykernel)",
   "language": "python",
   "name": "python3"
  },
  "language_info": {
   "codemirror_mode": {
    "name": "ipython",
    "version": 3
   },
   "file_extension": ".py",
   "mimetype": "text/x-python",
   "name": "python",
   "nbconvert_exporter": "python",
   "pygments_lexer": "ipython3",
   "version": "3.9.7"
  }
 },
 "nbformat": 4,
 "nbformat_minor": 5
}
