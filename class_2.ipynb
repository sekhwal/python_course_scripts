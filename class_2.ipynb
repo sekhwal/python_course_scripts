{
 "cells": [
  {
   "cell_type": "markdown",
   "id": "ae4f2e08",
   "metadata": {},
   "source": [
    "## Python keywords"
   ]
  },
  {
   "cell_type": "code",
   "execution_count": null,
   "id": "9a9b0b19",
   "metadata": {},
   "outputs": [],
   "source": [
    "##Python keywords and special researved words\n",
    "#e.g False, None, True, and, as, class, continue, def, del, elif, Finally, For, From, Global, if, is, Lambda, Nonlocal,\n",
    "#Not, Or, Return, Try, While, With, Yield\n",
    "#Can not assign for the value"
   ]
  },
  {
   "cell_type": "markdown",
   "id": "83ed661b",
   "metadata": {},
   "source": [
    "## Python Identifiers"
   ]
  },
  {
   "cell_type": "code",
   "execution_count": null,
   "id": "ea9d3dee",
   "metadata": {},
   "outputs": [],
   "source": [
    "##Identifiers are names used for variables, functions, or objects\n",
    "#Note: Not special characters expect _ (underscore)\n",
    "#Identifiers are case sensitive\n",
    "#First latter can not be a digit"
   ]
  },
  {
   "cell_type": "code",
   "execution_count": 2,
   "id": "68ea9146",
   "metadata": {},
   "outputs": [],
   "source": [
    "#example\n",
    "student= \"Rao\"\n",
    "Student=\"Kumar\""
   ]
  },
  {
   "cell_type": "code",
   "execution_count": 4,
   "id": "8521e64b",
   "metadata": {},
   "outputs": [
    {
     "data": {
      "text/plain": [
       "'Rao'"
      ]
     },
     "execution_count": 4,
     "metadata": {},
     "output_type": "execute_result"
    }
   ],
   "source": [
    "student"
   ]
  },
  {
   "cell_type": "code",
   "execution_count": 5,
   "id": "9074bcc9",
   "metadata": {},
   "outputs": [
    {
     "data": {
      "text/plain": [
       "'Kumar'"
      ]
     },
     "execution_count": 5,
     "metadata": {},
     "output_type": "execute_result"
    }
   ],
   "source": [
    "Student"
   ]
  },
  {
   "cell_type": "markdown",
   "id": "3eaaa71e",
   "metadata": {},
   "source": [
    "## Python Literals"
   ]
  },
  {
   "cell_type": "code",
   "execution_count": null,
   "id": "a4367411",
   "metadata": {},
   "outputs": [],
   "source": [
    "##Literals is constant/do not change/values that stores in the variables"
   ]
  },
  {
   "cell_type": "code",
   "execution_count": null,
   "id": "d7f290ac",
   "metadata": {},
   "outputs": [],
   "source": [
    "#e.g a (variable) = 3.4 (literals)"
   ]
  },
  {
   "cell_type": "markdown",
   "id": "d613b1ec",
   "metadata": {},
   "source": [
    "## Python String"
   ]
  },
  {
   "cell_type": "code",
   "execution_count": 6,
   "id": "b6e78991",
   "metadata": {},
   "outputs": [],
   "source": [
    "str1 = 'My python program'"
   ]
  },
  {
   "cell_type": "code",
   "execution_count": 7,
   "id": "f0793924",
   "metadata": {},
   "outputs": [
    {
     "data": {
      "text/plain": [
       "'My python program'"
      ]
     },
     "execution_count": 7,
     "metadata": {},
     "output_type": "execute_result"
    }
   ],
   "source": [
    "str1"
   ]
  },
  {
   "cell_type": "code",
   "execution_count": 8,
   "id": "f5ff6ba7",
   "metadata": {},
   "outputs": [],
   "source": [
    "str2= \"This is second string\""
   ]
  },
  {
   "cell_type": "code",
   "execution_count": 9,
   "id": "cfea5606",
   "metadata": {},
   "outputs": [
    {
     "data": {
      "text/plain": [
       "'This is second string'"
      ]
     },
     "execution_count": 9,
     "metadata": {},
     "output_type": "execute_result"
    }
   ],
   "source": [
    "str2"
   ]
  },
  {
   "cell_type": "code",
   "execution_count": 10,
   "id": "2f86cb54",
   "metadata": {},
   "outputs": [],
   "source": [
    "str3 = '''\n",
    "Let's do\n",
    "some \n",
    "bioinformatics\n",
    "\n",
    "'''\n"
   ]
  },
  {
   "cell_type": "code",
   "execution_count": 11,
   "id": "1d4bb0ae",
   "metadata": {},
   "outputs": [
    {
     "data": {
      "text/plain": [
       "\"\\nLet's do\\nsome \\nbioinformatics\\n\\n\""
      ]
     },
     "execution_count": 11,
     "metadata": {},
     "output_type": "execute_result"
    }
   ],
   "source": [
    "str3"
   ]
  },
  {
   "cell_type": "code",
   "execution_count": 12,
   "id": "2104b62e",
   "metadata": {},
   "outputs": [],
   "source": [
    "##Indexing in string"
   ]
  },
  {
   "cell_type": "code",
   "execution_count": 13,
   "id": "8ac04d5c",
   "metadata": {},
   "outputs": [],
   "source": [
    "my_str = \"My work bioinformatics\""
   ]
  },
  {
   "cell_type": "code",
   "execution_count": 14,
   "id": "84511941",
   "metadata": {},
   "outputs": [
    {
     "data": {
      "text/plain": [
       "'M'"
      ]
     },
     "execution_count": 14,
     "metadata": {},
     "output_type": "execute_result"
    }
   ],
   "source": [
    "my_str[0]"
   ]
  },
  {
   "cell_type": "code",
   "execution_count": 15,
   "id": "6db5a4d2",
   "metadata": {},
   "outputs": [
    {
     "data": {
      "text/plain": [
       "'s'"
      ]
     },
     "execution_count": 15,
     "metadata": {},
     "output_type": "execute_result"
    }
   ],
   "source": [
    "my_str[-1]"
   ]
  },
  {
   "cell_type": "code",
   "execution_count": 16,
   "id": "c8537b82",
   "metadata": {},
   "outputs": [
    {
     "data": {
      "text/plain": [
       "'rk bio'"
      ]
     },
     "execution_count": 16,
     "metadata": {},
     "output_type": "execute_result"
    }
   ],
   "source": [
    "my_str[5:11]"
   ]
  },
  {
   "cell_type": "markdown",
   "id": "bc82ff80",
   "metadata": {},
   "source": [
    "### string function"
   ]
  },
  {
   "cell_type": "code",
   "execution_count": 17,
   "id": "6c4e167d",
   "metadata": {},
   "outputs": [
    {
     "data": {
      "text/plain": [
       "22"
      ]
     },
     "execution_count": 17,
     "metadata": {},
     "output_type": "execute_result"
    }
   ],
   "source": [
    "len(my_str)"
   ]
  },
  {
   "cell_type": "code",
   "execution_count": 18,
   "id": "51be66cb",
   "metadata": {},
   "outputs": [
    {
     "data": {
      "text/plain": [
       "'my work bioinformatics'"
      ]
     },
     "execution_count": 18,
     "metadata": {},
     "output_type": "execute_result"
    }
   ],
   "source": [
    "my_str.lower()"
   ]
  },
  {
   "cell_type": "code",
   "execution_count": 19,
   "id": "4e010f9d",
   "metadata": {},
   "outputs": [
    {
     "data": {
      "text/plain": [
       "'MY WORK BIOINFORMATICS'"
      ]
     },
     "execution_count": 19,
     "metadata": {},
     "output_type": "execute_result"
    }
   ],
   "source": [
    "my_str.upper()"
   ]
  },
  {
   "cell_type": "code",
   "execution_count": 21,
   "id": "d4ad782f",
   "metadata": {},
   "outputs": [
    {
     "data": {
      "text/plain": [
       "'Ma work bioinformatics'"
      ]
     },
     "execution_count": 21,
     "metadata": {},
     "output_type": "execute_result"
    }
   ],
   "source": [
    "#replace a word\n",
    "my_str.replace('y', 'a')"
   ]
  },
  {
   "cell_type": "code",
   "execution_count": 23,
   "id": "ed1fb8f2",
   "metadata": {},
   "outputs": [],
   "source": [
    "new_str = \"bio bio world\""
   ]
  },
  {
   "cell_type": "code",
   "execution_count": 25,
   "id": "3e0cbfdc",
   "metadata": {},
   "outputs": [
    {
     "data": {
      "text/plain": [
       "2"
      ]
     },
     "execution_count": 25,
     "metadata": {},
     "output_type": "execute_result"
    }
   ],
   "source": [
    "new_str.count(\"bio\")"
   ]
  },
  {
   "cell_type": "code",
   "execution_count": null,
   "id": "7f501841",
   "metadata": {},
   "outputs": [],
   "source": [
    "#finding index value of a character"
   ]
  },
  {
   "cell_type": "code",
   "execution_count": 28,
   "id": "779574a5",
   "metadata": {},
   "outputs": [],
   "source": [
    "s1 = 'Genomics is a emerging topic'"
   ]
  },
  {
   "cell_type": "code",
   "execution_count": 29,
   "id": "bc01145d",
   "metadata": {},
   "outputs": [
    {
     "data": {
      "text/plain": [
       "14"
      ]
     },
     "execution_count": 29,
     "metadata": {},
     "output_type": "execute_result"
    }
   ],
   "source": [
    "s1.find('emerging')"
   ]
  },
  {
   "cell_type": "code",
   "execution_count": 34,
   "id": "1736165f",
   "metadata": {},
   "outputs": [
    {
     "data": {
      "text/plain": [
       "'I like genomics, and bioinformatics'"
      ]
     },
     "execution_count": 34,
     "metadata": {},
     "output_type": "execute_result"
    }
   ],
   "source": [
    "sub = 'I like genomics, and bioinformatics'\n",
    "sub"
   ]
  },
  {
   "cell_type": "code",
   "execution_count": 39,
   "id": "7c2f6970",
   "metadata": {},
   "outputs": [
    {
     "data": {
      "text/plain": [
       "['I lik', ' g', 'nomics, and bioinformatics']"
      ]
     },
     "execution_count": 39,
     "metadata": {},
     "output_type": "execute_result"
    }
   ],
   "source": [
    "sub.split('e')"
   ]
  }
 ],
 "metadata": {
  "kernelspec": {
   "display_name": "Python 3 (ipykernel)",
   "language": "python",
   "name": "python3"
  },
  "language_info": {
   "codemirror_mode": {
    "name": "ipython",
    "version": 3
   },
   "file_extension": ".py",
   "mimetype": "text/x-python",
   "name": "python",
   "nbconvert_exporter": "python",
   "pygments_lexer": "ipython3",
   "version": "3.9.7"
  }
 },
 "nbformat": 4,
 "nbformat_minor": 5
}
