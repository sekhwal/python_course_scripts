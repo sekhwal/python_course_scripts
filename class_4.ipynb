{
 "cells": [
  {
   "cell_type": "markdown",
   "id": "e92d3510",
   "metadata": {},
   "source": [
    "# If statement"
   ]
  },
  {
   "cell_type": "code",
   "execution_count": 2,
   "id": "05714f0a",
   "metadata": {},
   "outputs": [],
   "source": [
    "a= 20\n",
    "b= 40"
   ]
  },
  {
   "cell_type": "code",
   "execution_count": 4,
   "id": "6df69ab1",
   "metadata": {},
   "outputs": [
    {
     "name": "stdout",
     "output_type": "stream",
     "text": [
      "b is greater than a\n"
     ]
    }
   ],
   "source": [
    "if a>b:\n",
    "    print(\"a is greater than b\")\n",
    "else:\n",
    "    print(\"b is greater than a\")\n",
    "        "
   ]
  },
  {
   "cell_type": "code",
   "execution_count": 5,
   "id": "70b4fbfc",
   "metadata": {},
   "outputs": [],
   "source": [
    "a=10\n",
    "b=20\n",
    "c=30"
   ]
  },
  {
   "cell_type": "code",
   "execution_count": 7,
   "id": "cfb62fa6",
   "metadata": {},
   "outputs": [
    {
     "name": "stdout",
     "output_type": "stream",
     "text": [
      "c is greater number\n"
     ]
    }
   ],
   "source": [
    "if (a>b) & (a>c):\n",
    "    print(\"a is greater number\")\n",
    "elif (b>a) & (b>c):\n",
    "    print(\"b is greater number\")\n",
    "else:\n",
    "    print(\"c is greater number\")\n"
   ]
  },
  {
   "cell_type": "code",
   "execution_count": null,
   "id": "844eec5a",
   "metadata": {},
   "outputs": [],
   "source": [
    "##if with tuple"
   ]
  },
  {
   "cell_type": "code",
   "execution_count": 8,
   "id": "c49123e5",
   "metadata": {},
   "outputs": [],
   "source": [
    "tup1=('il','az','pa')"
   ]
  },
  {
   "cell_type": "code",
   "execution_count": 10,
   "id": "c2f5627c",
   "metadata": {},
   "outputs": [
    {
     "name": "stdout",
     "output_type": "stream",
     "text": [
      "az is present in the tup1\n"
     ]
    }
   ],
   "source": [
    "if 'nd' in tup1:\n",
    "    print(\"il is present in the tup1\")\n",
    "elif 'az' in tup1:\n",
    "    print(\"az is present in the tup1\")\n",
    "else:\n",
    "    print(\"nd is not present in the tup1\")"
   ]
  },
  {
   "cell_type": "code",
   "execution_count": null,
   "id": "2fdc52a7",
   "metadata": {},
   "outputs": [],
   "source": [
    "#if with list"
   ]
  },
  {
   "cell_type": "code",
   "execution_count": 29,
   "id": "4b99d4eb",
   "metadata": {},
   "outputs": [],
   "source": [
    "lst1 = ['ku','ss','ll']"
   ]
  },
  {
   "cell_type": "code",
   "execution_count": 30,
   "id": "93569c9b",
   "metadata": {},
   "outputs": [],
   "source": [
    "if lst1[1]=='ss':\n",
    "    lst1[1]='bo'"
   ]
  },
  {
   "cell_type": "code",
   "execution_count": 31,
   "id": "142007dd",
   "metadata": {},
   "outputs": [
    {
     "data": {
      "text/plain": [
       "['ku', 'bo', 'll']"
      ]
     },
     "execution_count": 31,
     "metadata": {},
     "output_type": "execute_result"
    }
   ],
   "source": [
    "lst1"
   ]
  },
  {
   "cell_type": "code",
   "execution_count": null,
   "id": "8399d1ce",
   "metadata": {},
   "outputs": [],
   "source": [
    "#if with dictionary"
   ]
  },
  {
   "cell_type": "code",
   "execution_count": 32,
   "id": "1184413a",
   "metadata": {},
   "outputs": [],
   "source": [
    "dd1 = {\"k\":30,\"h\":20,\"u\":50}"
   ]
  },
  {
   "cell_type": "code",
   "execution_count": 33,
   "id": "7068ce91",
   "metadata": {},
   "outputs": [
    {
     "data": {
      "text/plain": [
       "{'k': 30, 'h': 20, 'u': 50}"
      ]
     },
     "execution_count": 33,
     "metadata": {},
     "output_type": "execute_result"
    }
   ],
   "source": [
    "dd1"
   ]
  },
  {
   "cell_type": "code",
   "execution_count": 35,
   "id": "97996e3d",
   "metadata": {},
   "outputs": [],
   "source": [
    "if dd1[\"k\"]==30:\n",
    "    dd1[\"k\"]=dd1['k']+100"
   ]
  },
  {
   "cell_type": "code",
   "execution_count": 36,
   "id": "9326fc74",
   "metadata": {},
   "outputs": [
    {
     "data": {
      "text/plain": [
       "{'k': 130, 'h': 20, 'u': 50}"
      ]
     },
     "execution_count": 36,
     "metadata": {},
     "output_type": "execute_result"
    }
   ],
   "source": [
    "dd1"
   ]
  },
  {
   "cell_type": "code",
   "execution_count": null,
   "id": "54d0003f",
   "metadata": {},
   "outputs": [],
   "source": []
  }
 ],
 "metadata": {
  "kernelspec": {
   "display_name": "Python 3 (ipykernel)",
   "language": "python",
   "name": "python3"
  },
  "language_info": {
   "codemirror_mode": {
    "name": "ipython",
    "version": 3
   },
   "file_extension": ".py",
   "mimetype": "text/x-python",
   "name": "python",
   "nbconvert_exporter": "python",
   "pygments_lexer": "ipython3",
   "version": "3.9.7"
  }
 },
 "nbformat": 4,
 "nbformat_minor": 5
}
