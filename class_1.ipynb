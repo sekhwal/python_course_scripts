{
 "cells": [
  {
   "cell_type": "markdown",
   "id": "2f1331f1",
   "metadata": {},
   "source": [
    "# Python Fundamentals"
   ]
  },
  {
   "cell_type": "code",
   "execution_count": null,
   "id": "adc55c7f",
   "metadata": {},
   "outputs": [],
   "source": [
    "##Let's just write a code"
   ]
  },
  {
   "cell_type": "code",
   "execution_count": 11,
   "id": "22a3b16a",
   "metadata": {},
   "outputs": [
    {
     "name": "stdout",
     "output_type": "stream",
     "text": [
      "this is python\n"
     ]
    }
   ],
   "source": [
    "print(\"this is python\")"
   ]
  },
  {
   "cell_type": "markdown",
   "id": "5ab90283",
   "metadata": {},
   "source": [
    "### Variables"
   ]
  },
  {
   "cell_type": "code",
   "execution_count": null,
   "id": "41620218",
   "metadata": {},
   "outputs": [],
   "source": [
    "#Variables: is a temporary storage"
   ]
  },
  {
   "cell_type": "code",
   "execution_count": 5,
   "id": "da5ec413",
   "metadata": {},
   "outputs": [],
   "source": [
    "subject=\"Bio\""
   ]
  },
  {
   "cell_type": "code",
   "execution_count": 7,
   "id": "36026fc7",
   "metadata": {},
   "outputs": [
    {
     "data": {
      "text/plain": [
       "'Bio'"
      ]
     },
     "execution_count": 7,
     "metadata": {},
     "output_type": "execute_result"
    }
   ],
   "source": [
    "subject"
   ]
  },
  {
   "cell_type": "code",
   "execution_count": 9,
   "id": "e7c6d000",
   "metadata": {},
   "outputs": [],
   "source": [
    "subject=\"Bioinfo\""
   ]
  },
  {
   "cell_type": "code",
   "execution_count": 10,
   "id": "4e3a8976",
   "metadata": {},
   "outputs": [
    {
     "data": {
      "text/plain": [
       "'Bioinfo'"
      ]
     },
     "execution_count": 10,
     "metadata": {},
     "output_type": "execute_result"
    }
   ],
   "source": [
    "subject"
   ]
  },
  {
   "cell_type": "markdown",
   "id": "bcaf8645",
   "metadata": {},
   "source": [
    "### Data types"
   ]
  },
  {
   "cell_type": "code",
   "execution_count": 13,
   "id": "377d4344",
   "metadata": {},
   "outputs": [],
   "source": [
    "a1=20"
   ]
  },
  {
   "cell_type": "code",
   "execution_count": 14,
   "id": "78479e65",
   "metadata": {},
   "outputs": [
    {
     "data": {
      "text/plain": [
       "20"
      ]
     },
     "execution_count": 14,
     "metadata": {},
     "output_type": "execute_result"
    }
   ],
   "source": [
    "a1"
   ]
  },
  {
   "cell_type": "code",
   "execution_count": 15,
   "id": "ea4f055c",
   "metadata": {},
   "outputs": [
    {
     "data": {
      "text/plain": [
       "int"
      ]
     },
     "execution_count": 15,
     "metadata": {},
     "output_type": "execute_result"
    }
   ],
   "source": [
    "type(a1)"
   ]
  },
  {
   "cell_type": "code",
   "execution_count": 16,
   "id": "bee9bf94",
   "metadata": {},
   "outputs": [],
   "source": [
    "b1=30.4"
   ]
  },
  {
   "cell_type": "code",
   "execution_count": 17,
   "id": "2336f927",
   "metadata": {},
   "outputs": [
    {
     "data": {
      "text/plain": [
       "30.4"
      ]
     },
     "execution_count": 17,
     "metadata": {},
     "output_type": "execute_result"
    }
   ],
   "source": [
    "b1"
   ]
  },
  {
   "cell_type": "code",
   "execution_count": 18,
   "id": "142417d6",
   "metadata": {},
   "outputs": [
    {
     "data": {
      "text/plain": [
       "float"
      ]
     },
     "execution_count": 18,
     "metadata": {},
     "output_type": "execute_result"
    }
   ],
   "source": [
    "type(b1)"
   ]
  },
  {
   "cell_type": "code",
   "execution_count": 19,
   "id": "e5138c5c",
   "metadata": {},
   "outputs": [],
   "source": [
    "a1=True"
   ]
  },
  {
   "cell_type": "code",
   "execution_count": 20,
   "id": "4698bf9e",
   "metadata": {},
   "outputs": [
    {
     "data": {
      "text/plain": [
       "True"
      ]
     },
     "execution_count": 20,
     "metadata": {},
     "output_type": "execute_result"
    }
   ],
   "source": [
    "a1"
   ]
  },
  {
   "cell_type": "code",
   "execution_count": 21,
   "id": "4fba0844",
   "metadata": {},
   "outputs": [
    {
     "data": {
      "text/plain": [
       "bool"
      ]
     },
     "execution_count": 21,
     "metadata": {},
     "output_type": "execute_result"
    }
   ],
   "source": [
    "type(a1)"
   ]
  },
  {
   "cell_type": "code",
   "execution_count": 26,
   "id": "38cab5b2",
   "metadata": {},
   "outputs": [
    {
     "data": {
      "text/plain": [
       "'Hello Bioinfo'"
      ]
     },
     "execution_count": 26,
     "metadata": {},
     "output_type": "execute_result"
    }
   ],
   "source": [
    "a1=\"Hello Bioinfo\"\n",
    "a1"
   ]
  },
  {
   "cell_type": "code",
   "execution_count": 27,
   "id": "a372226e",
   "metadata": {},
   "outputs": [
    {
     "data": {
      "text/plain": [
       "str"
      ]
     },
     "execution_count": 27,
     "metadata": {},
     "output_type": "execute_result"
    }
   ],
   "source": [
    "type(a1)"
   ]
  },
  {
   "cell_type": "code",
   "execution_count": 29,
   "id": "be6cea90",
   "metadata": {},
   "outputs": [
    {
     "data": {
      "text/plain": [
       "(3+5j)"
      ]
     },
     "execution_count": 29,
     "metadata": {},
     "output_type": "execute_result"
    }
   ],
   "source": [
    "b1=3+5j\n",
    "b1"
   ]
  },
  {
   "cell_type": "code",
   "execution_count": 30,
   "id": "1ba3b145",
   "metadata": {},
   "outputs": [
    {
     "data": {
      "text/plain": [
       "complex"
      ]
     },
     "execution_count": 30,
     "metadata": {},
     "output_type": "execute_result"
    }
   ],
   "source": [
    "type(b1)"
   ]
  },
  {
   "cell_type": "markdown",
   "id": "50a73c0d",
   "metadata": {},
   "source": [
    "### Operators:"
   ]
  },
  {
   "cell_type": "markdown",
   "id": "8d9c6c29",
   "metadata": {},
   "source": [
    "#Arithmetic operators"
   ]
  },
  {
   "cell_type": "code",
   "execution_count": 31,
   "id": "6d52db60",
   "metadata": {},
   "outputs": [],
   "source": [
    "#+,-,*,/"
   ]
  },
  {
   "cell_type": "code",
   "execution_count": 35,
   "id": "dc3eba26",
   "metadata": {},
   "outputs": [],
   "source": [
    "a=20\n",
    "b=40"
   ]
  },
  {
   "cell_type": "code",
   "execution_count": 36,
   "id": "5d74d952",
   "metadata": {},
   "outputs": [
    {
     "data": {
      "text/plain": [
       "(20, 40)"
      ]
     },
     "execution_count": 36,
     "metadata": {},
     "output_type": "execute_result"
    }
   ],
   "source": [
    "a,b"
   ]
  },
  {
   "cell_type": "code",
   "execution_count": 37,
   "id": "829a9ac2",
   "metadata": {},
   "outputs": [
    {
     "data": {
      "text/plain": [
       "60"
      ]
     },
     "execution_count": 37,
     "metadata": {},
     "output_type": "execute_result"
    }
   ],
   "source": [
    "a+b"
   ]
  },
  {
   "cell_type": "code",
   "execution_count": 38,
   "id": "089a368e",
   "metadata": {},
   "outputs": [
    {
     "data": {
      "text/plain": [
       "-20"
      ]
     },
     "execution_count": 38,
     "metadata": {},
     "output_type": "execute_result"
    }
   ],
   "source": [
    "a-b"
   ]
  },
  {
   "cell_type": "code",
   "execution_count": 39,
   "id": "8a7827ea",
   "metadata": {},
   "outputs": [
    {
     "data": {
      "text/plain": [
       "800"
      ]
     },
     "execution_count": 39,
     "metadata": {},
     "output_type": "execute_result"
    }
   ],
   "source": [
    "a*b"
   ]
  },
  {
   "cell_type": "code",
   "execution_count": 40,
   "id": "adac46d3",
   "metadata": {},
   "outputs": [
    {
     "data": {
      "text/plain": [
       "0.5"
      ]
     },
     "execution_count": 40,
     "metadata": {},
     "output_type": "execute_result"
    }
   ],
   "source": [
    "a/b"
   ]
  },
  {
   "cell_type": "markdown",
   "id": "521fc1a2",
   "metadata": {},
   "source": [
    "Relational operators"
   ]
  },
  {
   "cell_type": "code",
   "execution_count": 41,
   "id": "4dcc61cd",
   "metadata": {},
   "outputs": [],
   "source": [
    "#<,>,==,!="
   ]
  },
  {
   "cell_type": "code",
   "execution_count": 42,
   "id": "b84e4a7a",
   "metadata": {},
   "outputs": [],
   "source": [
    "a=300\n",
    "b=500"
   ]
  },
  {
   "cell_type": "code",
   "execution_count": 43,
   "id": "ea4a0a9e",
   "metadata": {},
   "outputs": [
    {
     "data": {
      "text/plain": [
       "True"
      ]
     },
     "execution_count": 43,
     "metadata": {},
     "output_type": "execute_result"
    }
   ],
   "source": [
    "a<b"
   ]
  },
  {
   "cell_type": "code",
   "execution_count": 44,
   "id": "80ef99ad",
   "metadata": {},
   "outputs": [
    {
     "data": {
      "text/plain": [
       "False"
      ]
     },
     "execution_count": 44,
     "metadata": {},
     "output_type": "execute_result"
    }
   ],
   "source": [
    "a>b"
   ]
  },
  {
   "cell_type": "code",
   "execution_count": 45,
   "id": "f7764c44",
   "metadata": {},
   "outputs": [
    {
     "data": {
      "text/plain": [
       "False"
      ]
     },
     "execution_count": 45,
     "metadata": {},
     "output_type": "execute_result"
    }
   ],
   "source": [
    "a==b"
   ]
  },
  {
   "cell_type": "code",
   "execution_count": 46,
   "id": "08fb2dd0",
   "metadata": {},
   "outputs": [
    {
     "data": {
      "text/plain": [
       "True"
      ]
     },
     "execution_count": 46,
     "metadata": {},
     "output_type": "execute_result"
    }
   ],
   "source": [
    "a!=b"
   ]
  },
  {
   "cell_type": "markdown",
   "id": "19327a9d",
   "metadata": {},
   "source": [
    "Logical operators"
   ]
  },
  {
   "cell_type": "code",
   "execution_count": null,
   "id": "b87be287",
   "metadata": {},
   "outputs": [],
   "source": [
    "#& (and) | (or)"
   ]
  },
  {
   "cell_type": "code",
   "execution_count": 48,
   "id": "63ebaa42",
   "metadata": {},
   "outputs": [],
   "source": [
    "a= True\n",
    "b= False"
   ]
  },
  {
   "cell_type": "code",
   "execution_count": 49,
   "id": "4aebe120",
   "metadata": {},
   "outputs": [
    {
     "data": {
      "text/plain": [
       "True"
      ]
     },
     "execution_count": 49,
     "metadata": {},
     "output_type": "execute_result"
    }
   ],
   "source": [
    "a & a"
   ]
  },
  {
   "cell_type": "code",
   "execution_count": 50,
   "id": "6c482bd8",
   "metadata": {},
   "outputs": [
    {
     "data": {
      "text/plain": [
       "False"
      ]
     },
     "execution_count": 50,
     "metadata": {},
     "output_type": "execute_result"
    }
   ],
   "source": [
    "a & b"
   ]
  },
  {
   "cell_type": "code",
   "execution_count": 51,
   "id": "ae6dfcbc",
   "metadata": {},
   "outputs": [
    {
     "data": {
      "text/plain": [
       "False"
      ]
     },
     "execution_count": 51,
     "metadata": {},
     "output_type": "execute_result"
    }
   ],
   "source": [
    "b & a"
   ]
  },
  {
   "cell_type": "code",
   "execution_count": 52,
   "id": "bb0b36be",
   "metadata": {},
   "outputs": [
    {
     "data": {
      "text/plain": [
       "False"
      ]
     },
     "execution_count": 52,
     "metadata": {},
     "output_type": "execute_result"
    }
   ],
   "source": [
    "b & b"
   ]
  },
  {
   "cell_type": "code",
   "execution_count": 53,
   "id": "4c4cedd0",
   "metadata": {},
   "outputs": [
    {
     "data": {
      "text/plain": [
       "True"
      ]
     },
     "execution_count": 53,
     "metadata": {},
     "output_type": "execute_result"
    }
   ],
   "source": [
    "a | b"
   ]
  },
  {
   "cell_type": "code",
   "execution_count": 54,
   "id": "7695beb0",
   "metadata": {},
   "outputs": [
    {
     "data": {
      "text/plain": [
       "True"
      ]
     },
     "execution_count": 54,
     "metadata": {},
     "output_type": "execute_result"
    }
   ],
   "source": [
    "b | a"
   ]
  }
 ],
 "metadata": {
  "kernelspec": {
   "display_name": "Python 3 (ipykernel)",
   "language": "python",
   "name": "python3"
  },
  "language_info": {
   "codemirror_mode": {
    "name": "ipython",
    "version": 3
   },
   "file_extension": ".py",
   "mimetype": "text/x-python",
   "name": "python",
   "nbconvert_exporter": "python",
   "pygments_lexer": "ipython3",
   "version": "3.9.7"
  }
 },
 "nbformat": 4,
 "nbformat_minor": 5
}
