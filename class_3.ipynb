{
 "cells": [
  {
   "cell_type": "markdown",
   "id": "37949d5f",
   "metadata": {},
   "source": [
    "# Python data structure"
   ]
  },
  {
   "cell_type": "code",
   "execution_count": null,
   "id": "a120f21d",
   "metadata": {},
   "outputs": [],
   "source": [
    "### Tuple, List, Dictionary, Set"
   ]
  },
  {
   "cell_type": "markdown",
   "id": "fab57789",
   "metadata": {},
   "source": [
    "### Tuple data structure"
   ]
  },
  {
   "cell_type": "code",
   "execution_count": null,
   "id": "dfa2c6a5",
   "metadata": {},
   "outputs": [],
   "source": [
    "#Tuple: is an ordered collection of elements with ()\n",
    "# Tuple are immutable"
   ]
  },
  {
   "cell_type": "code",
   "execution_count": 43,
   "id": "6722abf6",
   "metadata": {},
   "outputs": [],
   "source": [
    "tup1 = (1, 'a', True, 3.4, 5-6j, 'b')"
   ]
  },
  {
   "cell_type": "code",
   "execution_count": 44,
   "id": "db68d2f3",
   "metadata": {},
   "outputs": [
    {
     "data": {
      "text/plain": [
       "(1, 'a', True, 3.4, (5-6j), 'b')"
      ]
     },
     "execution_count": 44,
     "metadata": {},
     "output_type": "execute_result"
    }
   ],
   "source": [
    "tup1"
   ]
  },
  {
   "cell_type": "code",
   "execution_count": 45,
   "id": "5ea31e31",
   "metadata": {},
   "outputs": [
    {
     "data": {
      "text/plain": [
       "tuple"
      ]
     },
     "execution_count": 45,
     "metadata": {},
     "output_type": "execute_result"
    }
   ],
   "source": [
    "type(tup1)"
   ]
  },
  {
   "cell_type": "code",
   "execution_count": 4,
   "id": "705dfcaf",
   "metadata": {},
   "outputs": [
    {
     "data": {
      "text/plain": [
       "'a'"
      ]
     },
     "execution_count": 4,
     "metadata": {},
     "output_type": "execute_result"
    }
   ],
   "source": [
    "#Indexing\n",
    "tup1[1]"
   ]
  },
  {
   "cell_type": "code",
   "execution_count": 5,
   "id": "63af7860",
   "metadata": {},
   "outputs": [
    {
     "data": {
      "text/plain": [
       "(5-6j)"
      ]
     },
     "execution_count": 5,
     "metadata": {},
     "output_type": "execute_result"
    }
   ],
   "source": [
    "tup1[-1]"
   ]
  },
  {
   "cell_type": "code",
   "execution_count": 8,
   "id": "91f080f1",
   "metadata": {},
   "outputs": [
    {
     "data": {
      "text/plain": [
       "(1, 'a')"
      ]
     },
     "execution_count": 8,
     "metadata": {},
     "output_type": "execute_result"
    }
   ],
   "source": [
    "tup1[0:2]"
   ]
  },
  {
   "cell_type": "code",
   "execution_count": null,
   "id": "5a8f9d62",
   "metadata": {},
   "outputs": [],
   "source": [
    "tup1[2] = \"bio\" #Not acceptable"
   ]
  },
  {
   "cell_type": "code",
   "execution_count": 10,
   "id": "e0218fcf",
   "metadata": {},
   "outputs": [
    {
     "data": {
      "text/plain": [
       "5"
      ]
     },
     "execution_count": 10,
     "metadata": {},
     "output_type": "execute_result"
    }
   ],
   "source": [
    "#length of tuple\n",
    "len(tup1)"
   ]
  },
  {
   "cell_type": "code",
   "execution_count": 13,
   "id": "e987394c",
   "metadata": {},
   "outputs": [],
   "source": [
    "#concatenating tuple\n",
    "tup1 = (1, 'gene', 3.4)\n",
    "tup2 = (5, 'editing', 5.6)"
   ]
  },
  {
   "cell_type": "code",
   "execution_count": 14,
   "id": "4832a1f0",
   "metadata": {},
   "outputs": [
    {
     "data": {
      "text/plain": [
       "(1, 'gene', 3.4, 5, 'editing', 5.6)"
      ]
     },
     "execution_count": 14,
     "metadata": {},
     "output_type": "execute_result"
    }
   ],
   "source": [
    "tup1 + tup2"
   ]
  },
  {
   "cell_type": "code",
   "execution_count": 17,
   "id": "644d92a6",
   "metadata": {},
   "outputs": [],
   "source": [
    "#Repeating tuple elements\n",
    "tup1 = ('bio', 400)"
   ]
  },
  {
   "cell_type": "code",
   "execution_count": 18,
   "id": "27e5fb4a",
   "metadata": {},
   "outputs": [
    {
     "data": {
      "text/plain": [
       "('bio', 400, 'bio', 400, 'bio', 400)"
      ]
     },
     "execution_count": 18,
     "metadata": {},
     "output_type": "execute_result"
    }
   ],
   "source": [
    "tup1*3"
   ]
  },
  {
   "cell_type": "code",
   "execution_count": 19,
   "id": "8e08ea7d",
   "metadata": {},
   "outputs": [],
   "source": [
    "tup2 = ('design', 200)"
   ]
  },
  {
   "cell_type": "code",
   "execution_count": 20,
   "id": "4fb8f5bf",
   "metadata": {},
   "outputs": [
    {
     "data": {
      "text/plain": [
       "('bio', 400, 'bio', 400, 'bio', 400, 'design', 200)"
      ]
     },
     "execution_count": 20,
     "metadata": {},
     "output_type": "execute_result"
    }
   ],
   "source": [
    "##Repeating and concatenatingtuple elements\n",
    "tup1*3 + tup2"
   ]
  },
  {
   "cell_type": "code",
   "execution_count": 25,
   "id": "abb30c79",
   "metadata": {},
   "outputs": [
    {
     "data": {
      "text/plain": [
       "5"
      ]
     },
     "execution_count": 25,
     "metadata": {},
     "output_type": "execute_result"
    }
   ],
   "source": [
    "# minium value in tuple\n",
    "tup_m = (10,30,40,56,34,5)\n",
    "min(tup_m)"
   ]
  },
  {
   "cell_type": "code",
   "execution_count": 26,
   "id": "afcefdec",
   "metadata": {},
   "outputs": [
    {
     "data": {
      "text/plain": [
       "56"
      ]
     },
     "execution_count": 26,
     "metadata": {},
     "output_type": "execute_result"
    }
   ],
   "source": [
    "#maximum value in tuple\n",
    "max(tup_m)"
   ]
  },
  {
   "cell_type": "markdown",
   "id": "7383614f",
   "metadata": {},
   "source": [
    "### List data structure "
   ]
  },
  {
   "cell_type": "code",
   "execution_count": null,
   "id": "33db06ad",
   "metadata": {},
   "outputs": [],
   "source": [
    "#Tuple: is an ordered collection of elements with []\n",
    "# Tuple are mutable/changable"
   ]
  },
  {
   "cell_type": "code",
   "execution_count": 46,
   "id": "a4825042",
   "metadata": {},
   "outputs": [],
   "source": [
    "p_list = [1, 'mk', 3.4, 5-6j, 'b']"
   ]
  },
  {
   "cell_type": "code",
   "execution_count": 47,
   "id": "c9990eb8",
   "metadata": {},
   "outputs": [
    {
     "data": {
      "text/plain": [
       "[1, 'mk', 3.4, (5-6j), 'b']"
      ]
     },
     "execution_count": 47,
     "metadata": {},
     "output_type": "execute_result"
    }
   ],
   "source": [
    "p_list"
   ]
  },
  {
   "cell_type": "code",
   "execution_count": 48,
   "id": "c3078b67",
   "metadata": {},
   "outputs": [
    {
     "data": {
      "text/plain": [
       "list"
      ]
     },
     "execution_count": 48,
     "metadata": {},
     "output_type": "execute_result"
    }
   ],
   "source": [
    "type(p_list)"
   ]
  },
  {
   "cell_type": "code",
   "execution_count": 49,
   "id": "12f8e961",
   "metadata": {},
   "outputs": [
    {
     "data": {
      "text/plain": [
       "1"
      ]
     },
     "execution_count": 49,
     "metadata": {},
     "output_type": "execute_result"
    }
   ],
   "source": [
    "#indexing\n",
    "p_list[0]"
   ]
  },
  {
   "cell_type": "code",
   "execution_count": 50,
   "id": "db515602",
   "metadata": {},
   "outputs": [
    {
     "data": {
      "text/plain": [
       "'b'"
      ]
     },
     "execution_count": 50,
     "metadata": {},
     "output_type": "execute_result"
    }
   ],
   "source": [
    "p_list[-1]"
   ]
  },
  {
   "cell_type": "code",
   "execution_count": 51,
   "id": "fd71ed67",
   "metadata": {},
   "outputs": [
    {
     "data": {
      "text/plain": [
       "['mk', 3.4]"
      ]
     },
     "execution_count": 51,
     "metadata": {},
     "output_type": "execute_result"
    }
   ],
   "source": [
    "p_list[1:3]"
   ]
  },
  {
   "cell_type": "code",
   "execution_count": 52,
   "id": "ce9c1408",
   "metadata": {},
   "outputs": [],
   "source": [
    "#Changing the element at 0th index"
   ]
  },
  {
   "cell_type": "code",
   "execution_count": 53,
   "id": "c8085f60",
   "metadata": {},
   "outputs": [
    {
     "data": {
      "text/plain": [
       "[100, 'mk', 3.4, (5-6j), 'b']"
      ]
     },
     "execution_count": 53,
     "metadata": {},
     "output_type": "execute_result"
    }
   ],
   "source": [
    "p_list[0]=100\n",
    "p_list"
   ]
  },
  {
   "cell_type": "code",
   "execution_count": 54,
   "id": "533a43a7",
   "metadata": {},
   "outputs": [],
   "source": [
    "#Popping out the last element"
   ]
  },
  {
   "cell_type": "code",
   "execution_count": 55,
   "id": "b7fa1dde",
   "metadata": {},
   "outputs": [
    {
     "data": {
      "text/plain": [
       "'b'"
      ]
     },
     "execution_count": 55,
     "metadata": {},
     "output_type": "execute_result"
    }
   ],
   "source": [
    "p_list.pop()"
   ]
  },
  {
   "cell_type": "code",
   "execution_count": 56,
   "id": "fb97452d",
   "metadata": {},
   "outputs": [
    {
     "data": {
      "text/plain": [
       "[100, 'mk', 3.4, (5-6j)]"
      ]
     },
     "execution_count": 56,
     "metadata": {},
     "output_type": "execute_result"
    }
   ],
   "source": [
    "p_list"
   ]
  },
  {
   "cell_type": "code",
   "execution_count": 41,
   "id": "1c55a3a3",
   "metadata": {},
   "outputs": [],
   "source": [
    "#Appending a new element"
   ]
  },
  {
   "cell_type": "code",
   "execution_count": 58,
   "id": "609bbc96",
   "metadata": {},
   "outputs": [],
   "source": [
    "p_list.append(\"lab\")"
   ]
  },
  {
   "cell_type": "code",
   "execution_count": 59,
   "id": "d20663df",
   "metadata": {},
   "outputs": [
    {
     "data": {
      "text/plain": [
       "[100, 'mk', 3.4, (5-6j), 'lab']"
      ]
     },
     "execution_count": 59,
     "metadata": {},
     "output_type": "execute_result"
    }
   ],
   "source": [
    "p_list"
   ]
  },
  {
   "cell_type": "code",
   "execution_count": 60,
   "id": "9fd5871b",
   "metadata": {},
   "outputs": [],
   "source": [
    "#Reversing elements of a list"
   ]
  },
  {
   "cell_type": "code",
   "execution_count": 66,
   "id": "fcf17519",
   "metadata": {},
   "outputs": [],
   "source": [
    "l1 = ['a', 2, 4.5, 'b', 'c']"
   ]
  },
  {
   "cell_type": "code",
   "execution_count": 63,
   "id": "400d8c9a",
   "metadata": {},
   "outputs": [
    {
     "data": {
      "text/plain": [
       "['c', 'b', 4.5, 2, 'a']"
      ]
     },
     "execution_count": 63,
     "metadata": {},
     "output_type": "execute_result"
    }
   ],
   "source": [
    "l1.reverse()\n",
    "l1"
   ]
  },
  {
   "cell_type": "code",
   "execution_count": 68,
   "id": "c035cdc5",
   "metadata": {},
   "outputs": [
    {
     "data": {
      "text/plain": [
       "['bio', 'che', 'lab', 'str']"
      ]
     },
     "execution_count": 68,
     "metadata": {},
     "output_type": "execute_result"
    }
   ],
   "source": [
    "##sorting a list\n",
    "l2 = ['lab', 'bio', 'che', 'str']\n",
    "l2.sort()\n",
    "l2"
   ]
  },
  {
   "cell_type": "code",
   "execution_count": 69,
   "id": "8dfad53b",
   "metadata": {},
   "outputs": [
    {
     "data": {
      "text/plain": [
       "['bio', 'adl', 'che', 'lab', 'str']"
      ]
     },
     "execution_count": 69,
     "metadata": {},
     "output_type": "execute_result"
    }
   ],
   "source": [
    "##insering a element at a specified index\n",
    "l2.insert(1,'adl')\n",
    "l2"
   ]
  },
  {
   "cell_type": "markdown",
   "id": "9141c4d0",
   "metadata": {},
   "source": [
    "### Dictionary data structure"
   ]
  },
  {
   "cell_type": "code",
   "execution_count": null,
   "id": "57f557c4",
   "metadata": {},
   "outputs": [],
   "source": [
    "##Dictionary is an unordered collection of key-value pairs with {}\n",
    "#Dictionary is mutable"
   ]
  },
  {
   "cell_type": "code",
   "execution_count": 1,
   "id": "6f85d28a",
   "metadata": {},
   "outputs": [],
   "source": [
    "d1 ={'bio':101,'geno':102,'che':103}"
   ]
  },
  {
   "cell_type": "code",
   "execution_count": 2,
   "id": "9d196672",
   "metadata": {},
   "outputs": [
    {
     "data": {
      "text/plain": [
       "{'bio': 101, 'geno': 102, 'che': 103}"
      ]
     },
     "execution_count": 2,
     "metadata": {},
     "output_type": "execute_result"
    }
   ],
   "source": [
    "d1"
   ]
  },
  {
   "cell_type": "code",
   "execution_count": 3,
   "id": "6497358b",
   "metadata": {},
   "outputs": [
    {
     "data": {
      "text/plain": [
       "dict"
      ]
     },
     "execution_count": 3,
     "metadata": {},
     "output_type": "execute_result"
    }
   ],
   "source": [
    "type(d1)"
   ]
  },
  {
   "cell_type": "code",
   "execution_count": 4,
   "id": "841741a8",
   "metadata": {},
   "outputs": [
    {
     "data": {
      "text/plain": [
       "dict_keys(['bio', 'geno', 'che'])"
      ]
     },
     "execution_count": 4,
     "metadata": {},
     "output_type": "execute_result"
    }
   ],
   "source": [
    "d1.keys()"
   ]
  },
  {
   "cell_type": "code",
   "execution_count": 5,
   "id": "4f18955d",
   "metadata": {},
   "outputs": [
    {
     "data": {
      "text/plain": [
       "dict_values([101, 102, 103])"
      ]
     },
     "execution_count": 5,
     "metadata": {},
     "output_type": "execute_result"
    }
   ],
   "source": [
    "d1.values()"
   ]
  },
  {
   "cell_type": "code",
   "execution_count": null,
   "id": "1bcd3fc8",
   "metadata": {},
   "outputs": [],
   "source": [
    "#Adding a new element"
   ]
  },
  {
   "cell_type": "code",
   "execution_count": 6,
   "id": "87e1014e",
   "metadata": {},
   "outputs": [],
   "source": [
    "d1[\"bioinfo\"]=160"
   ]
  },
  {
   "cell_type": "code",
   "execution_count": 7,
   "id": "f77c869c",
   "metadata": {},
   "outputs": [
    {
     "data": {
      "text/plain": [
       "{'bio': 101, 'geno': 102, 'che': 103, 'bioinfo': 160}"
      ]
     },
     "execution_count": 7,
     "metadata": {},
     "output_type": "execute_result"
    }
   ],
   "source": [
    "d1"
   ]
  },
  {
   "cell_type": "code",
   "execution_count": null,
   "id": "abc3ec36",
   "metadata": {},
   "outputs": [],
   "source": [
    "#changing an existing elements"
   ]
  },
  {
   "cell_type": "code",
   "execution_count": 8,
   "id": "54999a08",
   "metadata": {},
   "outputs": [],
   "source": [
    "d1[\"bio\"]=100"
   ]
  },
  {
   "cell_type": "code",
   "execution_count": 9,
   "id": "9b93ddad",
   "metadata": {},
   "outputs": [
    {
     "data": {
      "text/plain": [
       "{'bio': 100, 'geno': 102, 'che': 103, 'bioinfo': 160}"
      ]
     },
     "execution_count": 9,
     "metadata": {},
     "output_type": "execute_result"
    }
   ],
   "source": [
    "d1"
   ]
  },
  {
   "cell_type": "code",
   "execution_count": null,
   "id": "467551f5",
   "metadata": {},
   "outputs": [],
   "source": [
    "#update one dictionary element with another"
   ]
  },
  {
   "cell_type": "code",
   "execution_count": 14,
   "id": "ebadd4b4",
   "metadata": {},
   "outputs": [
    {
     "data": {
      "text/plain": [
       "{'kumar': 100, 'John': 200, 'Mark': 400, 'Jack': 500, 'Mohan': 400, 'Raj': 700}"
      ]
     },
     "execution_count": 14,
     "metadata": {},
     "output_type": "execute_result"
    }
   ],
   "source": [
    "std1 = {\"kumar\":100, \"John\":200, \"Mark\":400}\n",
    "std2= {\"Jack\":500, \"Mohan\":400,\"Raj\":700}\n",
    "std1.update(std2)\n",
    "std1"
   ]
  },
  {
   "cell_type": "code",
   "execution_count": 15,
   "id": "93ce5c65",
   "metadata": {},
   "outputs": [
    {
     "data": {
      "text/plain": [
       "700"
      ]
     },
     "execution_count": 15,
     "metadata": {},
     "output_type": "execute_result"
    }
   ],
   "source": [
    "#popping an element\n",
    "std2.pop(\"Raj\")"
   ]
  },
  {
   "cell_type": "code",
   "execution_count": 16,
   "id": "efafe4e0",
   "metadata": {},
   "outputs": [
    {
     "data": {
      "text/plain": [
       "{'Jack': 500, 'Mohan': 400}"
      ]
     },
     "execution_count": 16,
     "metadata": {},
     "output_type": "execute_result"
    }
   ],
   "source": [
    "std2"
   ]
  },
  {
   "cell_type": "markdown",
   "id": "510cdd2c",
   "metadata": {},
   "source": [
    "# Set data structure"
   ]
  },
  {
   "cell_type": "code",
   "execution_count": null,
   "id": "d303f2fd",
   "metadata": {},
   "outputs": [],
   "source": [
    "#set is an unordered and unindexed collection of elements with {}"
   ]
  },
  {
   "cell_type": "code",
   "execution_count": 17,
   "id": "8a72b482",
   "metadata": {},
   "outputs": [
    {
     "data": {
      "text/plain": [
       "{2, 2.4, 'manoj'}"
      ]
     },
     "execution_count": 17,
     "metadata": {},
     "output_type": "execute_result"
    }
   ],
   "source": [
    "s1 = {2, 2.4, 'manoj'}\n",
    "s1"
   ]
  },
  {
   "cell_type": "code",
   "execution_count": 18,
   "id": "86b175bd",
   "metadata": {},
   "outputs": [
    {
     "data": {
      "text/plain": [
       "{2, 2.4, 'manoj'}"
      ]
     },
     "execution_count": 18,
     "metadata": {},
     "output_type": "execute_result"
    }
   ],
   "source": [
    "s1 = {2, 2 , 2.4, 'manoj'} #duplicate vlaues are not printing\n",
    "s1"
   ]
  },
  {
   "cell_type": "code",
   "execution_count": 19,
   "id": "d0d47338",
   "metadata": {},
   "outputs": [
    {
     "data": {
      "text/plain": [
       "{2, 2.4, False, 'manoj'}"
      ]
     },
     "execution_count": 19,
     "metadata": {},
     "output_type": "execute_result"
    }
   ],
   "source": [
    "s1.add(False)\n",
    "s1"
   ]
  },
  {
   "cell_type": "code",
   "execution_count": 20,
   "id": "df143705",
   "metadata": {},
   "outputs": [
    {
     "data": {
      "text/plain": [
       "{(5-5j), 12345, 2, 2.4, False, 'hello', 'manoj'}"
      ]
     },
     "execution_count": 20,
     "metadata": {},
     "output_type": "execute_result"
    }
   ],
   "source": [
    "s1.update(['hello', 12345, 5-5j])\n",
    "s1"
   ]
  },
  {
   "cell_type": "code",
   "execution_count": 21,
   "id": "a4a5c052",
   "metadata": {},
   "outputs": [
    {
     "data": {
      "text/plain": [
       "{(5-5j), 12345, 2, 2.4, 'hello', 'manoj'}"
      ]
     },
     "execution_count": 21,
     "metadata": {},
     "output_type": "execute_result"
    }
   ],
   "source": [
    "s1.remove(False)\n",
    "s1"
   ]
  },
  {
   "cell_type": "code",
   "execution_count": 23,
   "id": "d3a914d9",
   "metadata": {},
   "outputs": [
    {
     "data": {
      "text/plain": [
       "{1, 2, 3, 4, 5, 6, 11, 12, 13, 14}"
      ]
     },
     "execution_count": 23,
     "metadata": {},
     "output_type": "execute_result"
    }
   ],
   "source": [
    "s1 = {1,2,3,4,5,6}\n",
    "s2 = {11,12,13,14}\n",
    "s1.union(s2)"
   ]
  },
  {
   "cell_type": "code",
   "execution_count": 25,
   "id": "7a62d13e",
   "metadata": {},
   "outputs": [],
   "source": [
    "s3 = {11,17,13}"
   ]
  },
  {
   "cell_type": "code",
   "execution_count": 26,
   "id": "51c215fc",
   "metadata": {},
   "outputs": [
    {
     "data": {
      "text/plain": [
       "{11, 13}"
      ]
     },
     "execution_count": 26,
     "metadata": {},
     "output_type": "execute_result"
    }
   ],
   "source": [
    "s2.intersection(s3)"
   ]
  },
  {
   "cell_type": "code",
   "execution_count": null,
   "id": "c46cdaa0",
   "metadata": {},
   "outputs": [],
   "source": []
  }
 ],
 "metadata": {
  "kernelspec": {
   "display_name": "Python 3 (ipykernel)",
   "language": "python",
   "name": "python3"
  },
  "language_info": {
   "codemirror_mode": {
    "name": "ipython",
    "version": 3
   },
   "file_extension": ".py",
   "mimetype": "text/x-python",
   "name": "python",
   "nbconvert_exporter": "python",
   "pygments_lexer": "ipython3",
   "version": "3.9.7"
  }
 },
 "nbformat": 4,
 "nbformat_minor": 5
}
